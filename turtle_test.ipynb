{
 "cells": [
  {
   "cell_type": "code",
   "execution_count": 3,
   "id": "7b122baa",
   "metadata": {},
   "outputs": [],
   "source": [
    "from mobilechelonian import Turtle"
   ]
  },
  {
   "cell_type": "code",
   "execution_count": 4,
   "id": "564f6e20",
   "metadata": {},
   "outputs": [
    {
     "data": {
      "application/vnd.jupyter.widget-view+json": {
       "model_id": "dd27a54e61144a61815b86c13989c5b6",
       "version_major": 2,
       "version_minor": 0
      },
      "text/plain": [
       "Turtle()"
      ]
     },
     "metadata": {},
     "output_type": "display_data"
    }
   ],
   "source": [
    "t = Turtle()\n",
    "t.speed(5)\n",
    "colours=[\"red\",\"blue\",\"yellow\",\"brown\",\"black\",\"purple\",\"green\"]\n",
    "\n",
    "t.penup(); t.left(90); t.forward(200);t.right(90);t.pendown()\n",
    "for i in range (0,18):\n",
    "    t.pencolor(colours[i%7])\n",
    "    t.right(20)\n",
    "    t.forward(50)\n",
    "\n",
    "t.right(180)\n",
    "t.home()"
   ]
  },
  {
   "cell_type": "code",
   "execution_count": 5,
   "id": "13dde947",
   "metadata": {},
   "outputs": [],
   "source": [
    "t.forward(100)"
   ]
  },
  {
   "cell_type": "code",
   "execution_count": null,
   "id": "eaae72fb",
   "metadata": {},
   "outputs": [],
   "source": []
  }
 ],
 "metadata": {
  "kernelspec": {
   "display_name": "Python 3",
   "language": "python",
   "name": "python3"
  },
  "language_info": {
   "codemirror_mode": {
    "name": "ipython",
    "version": 3
   },
   "file_extension": ".py",
   "mimetype": "text/x-python",
   "name": "python",
   "nbconvert_exporter": "python",
   "pygments_lexer": "ipython3",
   "version": "3.7.6"
  }
 },
 "nbformat": 4,
 "nbformat_minor": 5
}
